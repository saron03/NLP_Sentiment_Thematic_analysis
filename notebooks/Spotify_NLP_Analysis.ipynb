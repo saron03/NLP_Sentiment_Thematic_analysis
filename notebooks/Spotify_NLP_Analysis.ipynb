{
 "cells": [
  {
   "cell_type": "markdown",
   "id": "34a235a4-df0a-4580-9cb3-159b278af02a",
   "metadata": {},
   "source": [
    "# Loading the Dataset"
   ]
  },
  {
   "cell_type": "code",
   "execution_count": 1,
   "id": "05190eda-db9d-4b53-ad64-e945ca22e7bc",
   "metadata": {},
   "outputs": [
    {
     "data": {
      "text/html": [
       "<div>\n",
       "<style scoped>\n",
       "    .dataframe tbody tr th:only-of-type {\n",
       "        vertical-align: middle;\n",
       "    }\n",
       "\n",
       "    .dataframe tbody tr th {\n",
       "        vertical-align: top;\n",
       "    }\n",
       "\n",
       "    .dataframe thead th {\n",
       "        text-align: right;\n",
       "    }\n",
       "</style>\n",
       "<table border=\"1\" class=\"dataframe\">\n",
       "  <thead>\n",
       "    <tr style=\"text-align: right;\">\n",
       "      <th></th>\n",
       "      <th>Time_submitted</th>\n",
       "      <th>Review</th>\n",
       "      <th>Rating</th>\n",
       "      <th>Total_thumbsup</th>\n",
       "      <th>Reply</th>\n",
       "    </tr>\n",
       "  </thead>\n",
       "  <tbody>\n",
       "    <tr>\n",
       "      <th>0</th>\n",
       "      <td>2022-07-09 15:00:00</td>\n",
       "      <td>Great music service, the audio is high quality...</td>\n",
       "      <td>5</td>\n",
       "      <td>2</td>\n",
       "      <td>NaN</td>\n",
       "    </tr>\n",
       "    <tr>\n",
       "      <th>1</th>\n",
       "      <td>2022-07-09 14:21:22</td>\n",
       "      <td>Please ignore previous negative rating. This a...</td>\n",
       "      <td>5</td>\n",
       "      <td>1</td>\n",
       "      <td>NaN</td>\n",
       "    </tr>\n",
       "    <tr>\n",
       "      <th>2</th>\n",
       "      <td>2022-07-09 13:27:32</td>\n",
       "      <td>This pop-up \"Get the best Spotify experience o...</td>\n",
       "      <td>4</td>\n",
       "      <td>0</td>\n",
       "      <td>NaN</td>\n",
       "    </tr>\n",
       "    <tr>\n",
       "      <th>3</th>\n",
       "      <td>2022-07-09 13:26:45</td>\n",
       "      <td>Really buggy and terrible to use as of recently</td>\n",
       "      <td>1</td>\n",
       "      <td>1</td>\n",
       "      <td>NaN</td>\n",
       "    </tr>\n",
       "    <tr>\n",
       "      <th>4</th>\n",
       "      <td>2022-07-09 13:20:49</td>\n",
       "      <td>Dear Spotify why do I get songs that I didn't ...</td>\n",
       "      <td>1</td>\n",
       "      <td>1</td>\n",
       "      <td>NaN</td>\n",
       "    </tr>\n",
       "  </tbody>\n",
       "</table>\n",
       "</div>"
      ],
      "text/plain": [
       "        Time_submitted                                             Review  \\\n",
       "0  2022-07-09 15:00:00  Great music service, the audio is high quality...   \n",
       "1  2022-07-09 14:21:22  Please ignore previous negative rating. This a...   \n",
       "2  2022-07-09 13:27:32  This pop-up \"Get the best Spotify experience o...   \n",
       "3  2022-07-09 13:26:45    Really buggy and terrible to use as of recently   \n",
       "4  2022-07-09 13:20:49  Dear Spotify why do I get songs that I didn't ...   \n",
       "\n",
       "   Rating  Total_thumbsup Reply  \n",
       "0       5               2   NaN  \n",
       "1       5               1   NaN  \n",
       "2       4               0   NaN  \n",
       "3       1               1   NaN  \n",
       "4       1               1   NaN  "
      ]
     },
     "execution_count": 1,
     "metadata": {},
     "output_type": "execute_result"
    }
   ],
   "source": [
    "import pandas as pd\n",
    "\n",
    "# Load CSV file\n",
    "df = pd.read_csv(\"../data/raw/reviews.csv\")\n",
    "\n",
    "# Check first rows\n",
    "df.head()"
   ]
  },
  {
   "cell_type": "code",
   "execution_count": 2,
   "id": "cf4d8a7a-e60d-4ad4-9e0a-8a9200cd2b42",
   "metadata": {},
   "outputs": [],
   "source": [
    "# Focus only on the Review column:\n",
    "\n",
    "reviews = df['Review'].dropna() # remove missing reviews"
   ]
  },
  {
   "cell_type": "markdown",
   "id": "68da253e-ea83-4b68-838e-fc72ca384459",
   "metadata": {},
   "source": [
    "# STEP 1: Data preprocessing and Cleaning"
   ]
  },
  {
   "cell_type": "markdown",
   "id": "75aeff64-d556-4229-9f7b-a5d06b893759",
   "metadata": {},
   "source": [
    "* ## Lowercasing"
   ]
  },
  {
   "cell_type": "code",
   "execution_count": 4,
   "id": "ae23776c-0089-410b-a3b8-f47b63ea1b63",
   "metadata": {},
   "outputs": [
    {
     "name": "stdout",
     "output_type": "stream",
     "text": [
      "Success!\n"
     ]
    }
   ],
   "source": [
    "reviews = reviews.str.lower()\n",
    "print(\"Success!\")"
   ]
  },
  {
   "cell_type": "markdown",
   "id": "4fbd8adb-26b2-4693-9e90-04a5c30e0d02",
   "metadata": {},
   "source": [
    "* ## Remove Punctuation and Special Characters"
   ]
  },
  {
   "cell_type": "code",
   "execution_count": 3,
   "id": "93463dd7-7c9b-4d7f-989a-bdafd429a816",
   "metadata": {},
   "outputs": [
    {
     "name": "stdout",
     "output_type": "stream",
     "text": [
      "Done!\n"
     ]
    }
   ],
   "source": [
    "import re\n",
    "\n",
    "def clean_text(text):\n",
    "    text = re.sub(r'[^a-zA-Z\\s]', '', text)  # keep only letters and spaces\n",
    "    text = re.sub(r'\\s+', ' ', text).strip()  # remove extra spaces\n",
    "    return text\n",
    "\n",
    "reviews = reviews.apply(clean_text)\n",
    "print(\"Done!\")"
   ]
  },
  {
   "cell_type": "markdown",
   "id": "dfe5ddae-9c8f-41cb-81bc-eee07bd3bab9",
   "metadata": {},
   "source": [
    "* ## Sentence Segmentation"
   ]
  },
  {
   "cell_type": "code",
   "execution_count": 4,
   "id": "b97bf75f-8e20-4c33-9abf-2d936d91eff0",
   "metadata": {},
   "outputs": [
    {
     "name": "stdout",
     "output_type": "stream",
     "text": [
      "Done\n"
     ]
    }
   ],
   "source": [
    "import spacy\n",
    "\n",
    "# Load English model\n",
    "nlp = spacy.load(\"en_core_web_sm\")\n",
    "def split_sentences(text):\n",
    "    doc = nlp(str(text))  # ensure text is string\n",
    "    return [sent.text for sent in doc.sents]\n",
    "# Assuming your reviews are in a pandas Series called 'reviews'\n",
    "segmented_reviews = reviews.apply(split_sentences)\n",
    "\n",
    "# Check first few rows\n",
    "segmented_reviews.head()\n",
    "print(\"Done\")"
   ]
  },
  {
   "cell_type": "markdown",
   "id": "c2029e88-7991-436a-ba85-9fad7d545f54",
   "metadata": {},
   "source": [
    "* ## Tokenization"
   ]
  },
  {
   "cell_type": "code",
   "execution_count": 6,
   "id": "080eb88b-07b6-472e-9b63-11bf5843fd3b",
   "metadata": {},
   "outputs": [
    {
     "name": "stderr",
     "output_type": "stream",
     "text": [
      "[nltk_data] Downloading package punkt to /home/saron/nltk_data...\n",
      "[nltk_data]   Package punkt is already up-to-date!\n",
      "[nltk_data] Downloading package punkt_tab to /home/saron/nltk_data...\n",
      "[nltk_data]   Package punkt_tab is already up-to-date!\n"
     ]
    },
    {
     "name": "stdout",
     "output_type": "stream",
     "text": [
      "done\n"
     ]
    }
   ],
   "source": [
    "import nltk\n",
    "from nltk.tokenize import word_tokenize\n",
    "nltk.download('punkt')\n",
    "nltk.download('punkt_tab') \n",
    "# Tokenize all reviews\n",
    "tokens = segmented_reviews.apply(lambda sentences: [word_tokenize(sent) for sent in sentences])\n",
    "tokens.head()\n",
    "print(\"done\")"
   ]
  },
  {
   "cell_type": "markdown",
   "id": "7bf89a64-9da6-406d-b0e5-239322b989e8",
   "metadata": {},
   "source": [
    "* ## Stopword Removal"
   ]
  },
  {
   "cell_type": "code",
   "execution_count": 10,
   "id": "3e1c50ca-69f1-4288-8b8b-1036e01570d9",
   "metadata": {},
   "outputs": [
    {
     "name": "stdout",
     "output_type": "stream",
     "text": [
      "['great', 'music', 'service', 'audio', 'high', 'quality', 'app', 'easy', 'use', 'also', 'quick', 'friendly', 'support', 'please', 'ignore', 'previous', 'negative', 'rating', 'app', 'super', 'great', 'give', 'five', 'stars', 'popup', 'get', 'best', 'spotify', 'experience', 'android', 'annoying', 'please', 'lets', 'get', 'rid', 'really', 'buggy', 'terrible', 'use', 'recently', 'dear', 'spotify', 'get', 'songs', 'didnt', 'put', 'playlist', 'shuffle', 'play', 'player']\n",
      "done\n"
     ]
    },
    {
     "name": "stderr",
     "output_type": "stream",
     "text": [
      "[nltk_data] Downloading package stopwords to /home/saron/nltk_data...\n",
      "[nltk_data]   Package stopwords is already up-to-date!\n"
     ]
    }
   ],
   "source": [
    "from nltk.corpus import stopwords\n",
    "nltk.download('stopwords')\n",
    "stop_words = set(stopwords.words('english'))\n",
    "# Flatten the tokens if you have nested lists (sentences → words)\n",
    "flat_tokens = [token for review in tokens for sentence in review for token in sentence]\n",
    "# Remove stopwords\n",
    "filtered_tokens = [word.lower() for word in flat_tokens if word.lower() not in stop_words and word.isalpha()]\n",
    "print(filtered_tokens[:50])  # show first 50 tokens\n",
    "print(\"done\")"
   ]
  },
  {
   "cell_type": "markdown",
   "id": "c179e494-2d8d-4916-b927-2a0e49203685",
   "metadata": {},
   "source": [
    "* ## Lemmatization (dictionary-based, accurate)"
   ]
  },
  {
   "cell_type": "code",
   "execution_count": 11,
   "id": "822d7256-1166-4559-b0a2-1d324653ee4e",
   "metadata": {},
   "outputs": [
    {
     "name": "stderr",
     "output_type": "stream",
     "text": [
      "[nltk_data] Downloading package wordnet to /home/saron/nltk_data...\n",
      "[nltk_data]   Package wordnet is already up-to-date!\n"
     ]
    },
    {
     "name": "stdout",
     "output_type": "stream",
     "text": [
      "['great', 'music', 'service', 'audio', 'high', 'quality', 'app', 'easy', 'use', 'also', 'quick', 'friendly', 'support', 'please', 'ignore', 'previous', 'negative', 'rating', 'app', 'super', 'great', 'give', 'five', 'star', 'popup', 'get', 'best', 'spotify', 'experience', 'android', 'annoying', 'please', 'let', 'get', 'rid', 'really', 'buggy', 'terrible', 'use', 'recently', 'dear', 'spotify', 'get', 'song', 'didnt', 'put', 'playlist', 'shuffle', 'play', 'player']\n",
      "done\n"
     ]
    }
   ],
   "source": [
    "from nltk.stem import WordNetLemmatizer\n",
    "nltk.download('wordnet')\n",
    "lemmatizer = WordNetLemmatizer()\n",
    "# Lemmatize\n",
    "lemmatized_tokens = [lemmatizer.lemmatize(word) for word in filtered_tokens]\n",
    "print(lemmatized_tokens[:50])  # show first 50 lemmatized tokens\n",
    "print(\"done\")"
   ]
  },
  {
   "cell_type": "markdown",
   "id": "39c7bdac-6b8f-4816-a617-1ea2d4c724bf",
   "metadata": {},
   "source": [
    "* ## Final Cleaned Text"
   ]
  },
  {
   "cell_type": "code",
   "execution_count": 12,
   "id": "b307addd-90bb-406e-9e61-c41c73396005",
   "metadata": {},
   "outputs": [
    {
     "name": "stdout",
     "output_type": "stream",
     "text": [
      "0    great music service audio high quality app eas...\n",
      "1    give five star popup get best spotify experien...\n",
      "2    buggy terrible use recently dear spotify get s...\n",
      "3    app restart forgets playing fix issue love sel...\n",
      "4    provided song youre listening still extremely ...\n",
      "dtype: object\n",
      "done\n"
     ]
    }
   ],
   "source": [
    "# Reconstruct cleaned reviews from lemmatized tokens\n",
    "token_counts = [sum(len(sent) for sent in review) for review in tokens]\n",
    "cleaned_reviews = [\n",
    "    ' '.join(lemmatized_tokens[start_idx:start_idx + count])\n",
    "    for start_idx, count in zip([sum(token_counts[:i]) for i in range(len(token_counts))], token_counts)\n",
    "]\n",
    "cleaned_reviews = pd.Series(cleaned_reviews, index=df['Review'].dropna().index)\n",
    "print(cleaned_reviews[:5])\n",
    "print(\"done\")"
   ]
  },
  {
   "cell_type": "markdown",
   "id": "041ffe06-6f83-40d1-846a-2ccc847a254e",
   "metadata": {},
   "source": [
    "* ## Saving to a processed file"
   ]
  },
  {
   "cell_type": "code",
   "execution_count": 13,
   "id": "714726e7-f193-4af6-881a-a9e04b9ee0a6",
   "metadata": {},
   "outputs": [
    {
     "name": "stdout",
     "output_type": "stream",
     "text": [
      "done\n"
     ]
    }
   ],
   "source": [
    "import pandas as pd\n",
    "\n",
    "df['cleaned_review'] = cleaned_reviews\n",
    "df.to_csv(\"../data/processed/processed_reviews.csv\", index=False)\n",
    "print(\"done\")"
   ]
  },
  {
   "cell_type": "code",
   "execution_count": 14,
   "id": "f42c7b75-3b4e-49a7-94e3-f7a44423a3af",
   "metadata": {},
   "outputs": [
    {
     "name": "stdout",
     "output_type": "stream",
     "text": [
      "done\n"
     ]
    }
   ],
   "source": [
    "import pandas as pd\n",
    "\n",
    "df['cleaned_review'] = cleaned_reviews\n",
    "df.to_csv(\"../data/processed/processed_reviews.csv\", index=False)\n",
    "print(\"done\")\n",
    "df[['cleaned_review']].to_csv(\"../data/processed/cleaned_text_only.csv\", index=False)"
   ]
  },
  {
   "cell_type": "markdown",
   "id": "7760ee17-5bd3-4aba-a143-a9e4e1478549",
   "metadata": {},
   "source": [
    "# Step 2: Sentiment Analysis"
   ]
  },
  {
   "cell_type": "code",
   "execution_count": 15,
   "id": "3952a36b-f36c-4b66-9030-8786793d23a4",
   "metadata": {},
   "outputs": [
    {
     "name": "stderr",
     "output_type": "stream",
     "text": [
      "/home/saron/MySpace/iCog/Trainings/2nd_training_NLP/.venv/lib/python3.12/site-packages/tqdm/auto.py:21: TqdmWarning: IProgress not found. Please update jupyter and ipywidgets. See https://ipywidgets.readthedocs.io/en/stable/user_install.html\n",
      "  from .autonotebook import tqdm as notebook_tqdm\n"
     ]
    },
    {
     "data": {
      "text/html": [
       "<div>\n",
       "<style scoped>\n",
       "    .dataframe tbody tr th:only-of-type {\n",
       "        vertical-align: middle;\n",
       "    }\n",
       "\n",
       "    .dataframe tbody tr th {\n",
       "        vertical-align: top;\n",
       "    }\n",
       "\n",
       "    .dataframe thead th {\n",
       "        text-align: right;\n",
       "    }\n",
       "</style>\n",
       "<table border=\"1\" class=\"dataframe\">\n",
       "  <thead>\n",
       "    <tr style=\"text-align: right;\">\n",
       "      <th></th>\n",
       "      <th>Time_submitted</th>\n",
       "      <th>Review</th>\n",
       "      <th>Rating</th>\n",
       "      <th>Total_thumbsup</th>\n",
       "      <th>Reply</th>\n",
       "      <th>cleaned_review</th>\n",
       "    </tr>\n",
       "  </thead>\n",
       "  <tbody>\n",
       "    <tr>\n",
       "      <th>0</th>\n",
       "      <td>2022-07-09 15:00:00</td>\n",
       "      <td>Great music service, the audio is high quality...</td>\n",
       "      <td>5</td>\n",
       "      <td>2</td>\n",
       "      <td>NaN</td>\n",
       "      <td>great music service audio high quality app eas...</td>\n",
       "    </tr>\n",
       "    <tr>\n",
       "      <th>1</th>\n",
       "      <td>2022-07-09 14:21:22</td>\n",
       "      <td>Please ignore previous negative rating. This a...</td>\n",
       "      <td>5</td>\n",
       "      <td>1</td>\n",
       "      <td>NaN</td>\n",
       "      <td>give five star popup get best spotify experien...</td>\n",
       "    </tr>\n",
       "    <tr>\n",
       "      <th>2</th>\n",
       "      <td>2022-07-09 13:27:32</td>\n",
       "      <td>This pop-up \"Get the best Spotify experience o...</td>\n",
       "      <td>4</td>\n",
       "      <td>0</td>\n",
       "      <td>NaN</td>\n",
       "      <td>buggy terrible use recently dear spotify get s...</td>\n",
       "    </tr>\n",
       "    <tr>\n",
       "      <th>3</th>\n",
       "      <td>2022-07-09 13:26:45</td>\n",
       "      <td>Really buggy and terrible to use as of recently</td>\n",
       "      <td>1</td>\n",
       "      <td>1</td>\n",
       "      <td>NaN</td>\n",
       "      <td>app restart forgets playing fix issue love sel...</td>\n",
       "    </tr>\n",
       "    <tr>\n",
       "      <th>4</th>\n",
       "      <td>2022-07-09 13:20:49</td>\n",
       "      <td>Dear Spotify why do I get songs that I didn't ...</td>\n",
       "      <td>1</td>\n",
       "      <td>1</td>\n",
       "      <td>NaN</td>\n",
       "      <td>provided song youre listening still extremely ...</td>\n",
       "    </tr>\n",
       "  </tbody>\n",
       "</table>\n",
       "</div>"
      ],
      "text/plain": [
       "        Time_submitted                                             Review  \\\n",
       "0  2022-07-09 15:00:00  Great music service, the audio is high quality...   \n",
       "1  2022-07-09 14:21:22  Please ignore previous negative rating. This a...   \n",
       "2  2022-07-09 13:27:32  This pop-up \"Get the best Spotify experience o...   \n",
       "3  2022-07-09 13:26:45    Really buggy and terrible to use as of recently   \n",
       "4  2022-07-09 13:20:49  Dear Spotify why do I get songs that I didn't ...   \n",
       "\n",
       "   Rating  Total_thumbsup Reply  \\\n",
       "0       5               2   NaN   \n",
       "1       5               1   NaN   \n",
       "2       4               0   NaN   \n",
       "3       1               1   NaN   \n",
       "4       1               1   NaN   \n",
       "\n",
       "                                      cleaned_review  \n",
       "0  great music service audio high quality app eas...  \n",
       "1  give five star popup get best spotify experien...  \n",
       "2  buggy terrible use recently dear spotify get s...  \n",
       "3  app restart forgets playing fix issue love sel...  \n",
       "4  provided song youre listening still extremely ...  "
      ]
     },
     "execution_count": 15,
     "metadata": {},
     "output_type": "execute_result"
    }
   ],
   "source": [
    "import pandas as pd\n",
    "import numpy as np\n",
    "from transformers import pipeline\n",
    "import matplotlib.pyplot as plt\n",
    "from tqdm.auto import tqdm\n",
    "\n",
    "# Load your processed CSV (adjust the path)\n",
    "df = pd.read_csv(\"../data/processed/processed_reviews.csv\")   \n",
    "df.head()"
   ]
  },
  {
   "cell_type": "markdown",
   "id": "13e14bf9-13a9-4990-b9a8-aafb370de446",
   "metadata": {},
   "source": [
    "* ## Create the DistilBERT sentiment pipeline"
   ]
  },
  {
   "cell_type": "code",
   "execution_count": 16,
   "id": "d802e35c-0b55-499d-be0e-71f764e150ce",
   "metadata": {},
   "outputs": [
    {
     "name": "stderr",
     "output_type": "stream",
     "text": [
      "Device set to use cpu\n"
     ]
    },
    {
     "name": "stdout",
     "output_type": "stream",
     "text": [
      "Pipeline ready. Device: CPU\n",
      "Done\n"
     ]
    }
   ],
   "source": [
    "# create pipeline \n",
    "import torch\n",
    "device = 0 if torch.cuda.is_available() else -1\n",
    "\n",
    "# model choice: DistilBERT finetuned on SST-2 (binary POS/NEG)\n",
    "classifier = pipeline(\n",
    "    \"sentiment-analysis\",\n",
    "    model=\"distilbert-base-uncased-finetuned-sst-2-english\",\n",
    "    device=device\n",
    ")\n",
    "\n",
    "print(\"Pipeline ready. Device:\", \"GPU\" if device==0 else \"CPU\")\n",
    "print(\"Done\")"
   ]
  },
  {
   "cell_type": "markdown",
   "id": "b2c3de62-585e-49f6-b278-4a91cd74529f",
   "metadata": {},
   "source": [
    "* ## Run the model in batch"
   ]
  },
  {
   "cell_type": "code",
   "execution_count": 17,
   "id": "5052a4f7-2ff2-4b6a-8e2b-87cdc18da216",
   "metadata": {},
   "outputs": [
    {
     "name": "stderr",
     "output_type": "stream",
     "text": [
      "Running classifier:   0%|                                                                                                               | 0/1925 [00:00<?, ?it/s]/home/saron/MySpace/iCog/Trainings/2nd_training_NLP/.venv/lib/python3.12/site-packages/transformers/pipelines/text_classification.py:111: UserWarning: `return_all_scores` is now deprecated,  if want a similar functionality use `top_k=None` instead of `return_all_scores=True` or `top_k=1` instead of `return_all_scores=False`.\n",
      "  warnings.warn(\n",
      "Running classifier: 100%|████████████████████████████████████████████████████████████████████████████████████████████████████| 1925/1925 [13:50<00:00,  2.32it/s]"
     ]
    },
    {
     "name": "stdout",
     "output_type": "stream",
     "text": [
      "Done inference; results for first item: [{'label': 'NEGATIVE', 'score': 0.007652156986296177}, {'label': 'POSITIVE', 'score': 0.9923478364944458}]\n"
     ]
    },
    {
     "name": "stderr",
     "output_type": "stream",
     "text": [
      "\n"
     ]
    }
   ],
   "source": [
    "# run inference in batches and collect raw results\n",
    "text_col = \"cleaned_review\"\n",
    "# Ensure all texts are strings\n",
    "texts = df[text_col].astype(str).tolist()\n",
    "\n",
    "N = len(texts)\n",
    "batch_size = 32           # adjust up/down depending on memory (bigger = faster if you have RAM)\n",
    "raw_outputs = []          # list to collect results for each text\n",
    "\n",
    "for i in tqdm(range(0, N, batch_size), desc=\"Running classifier\"):\n",
    "    batch = texts[i : i + batch_size]\n",
    "    # return_all_scores=True gives a list of label/score dicts for each example\n",
    "    batch_out = classifier(batch, truncation=True, return_all_scores=True)\n",
    "    raw_outputs.extend(batch_out)\n",
    "\n",
    "# Sanity: same length?\n",
    "assert len(raw_outputs) == N\n",
    "print(\"Done inference; results for first item:\", raw_outputs[0])"
   ]
  },
  {
   "cell_type": "markdown",
   "id": "c09ff7bc-86b4-4b38-aea2-dc7ef482dec5",
   "metadata": {},
   "source": [
    "* ## Convert outputs to pos/neg probabilities and apply neutral rules"
   ]
  },
  {
   "cell_type": "code",
   "execution_count": 18,
   "id": "63581977-b8fc-4983-b9f6-873d4816587c",
   "metadata": {},
   "outputs": [
    {
     "name": "stdout",
     "output_type": "stream",
     "text": [
      "                                                                                                                                                                                                                                                                                                                                                                                                          cleaned_review Sentiment  sent_pos_prob  sent_neg_prob  sent_confidence\n",
      "                                                                                                                                                                                                                                                                                  great music service audio high quality app easy use also quick friendly support please ignore previous negative rating app super great  POSITIVE       0.992348       0.007652         0.992348\n",
      "                                                                                                                                                                                                                                                                                                                             give five star popup get best spotify experience android annoying please let get rid really  NEGATIVE       0.012783       0.987217         0.987217\n",
      "                                                                                                                                                                                                                                                                                             buggy terrible use recently dear spotify get song didnt put playlist shuffle play player control sometimes disappear reason  NEGATIVE       0.001745       0.998255         0.998255\n",
      "                                                                                                                                                                                                                                                                                                                                                              app restart forgets playing fix issue love selection lyric  NEGATIVE       0.000614       0.999386         0.999386\n",
      "                                                                                                                                                                                                                                                                          provided song youre listening still extremely slow changing storage external sd card im convinced done purpose spotify know issue done nothing  NEGATIVE       0.001229       0.998771         0.998771\n",
      "                                                                                                                                                                                                                                                                                                      solve time changed sd card faster read write speedsall samsung brand please add dont like song never appear search  NEGATIVE       0.011588       0.988412         0.988412\n",
      "                                                                                                                                                                                                                                                                                                                                          playlist great app best mp music app ever used one problem cant play song find  POSITIVE       0.990555       0.009445         0.990555\n",
      "song despite app wonderful recommend best im deleting app following reason app failing business model whether streaming service like consumer doesnt want pay music cant fully ad successively upon logging single song much closed app ad number im patient way profit youve already peaked thats left decline love spotify usually app best others stated control button disappear podcasts stop reason fixed deleting  NEGATIVE       0.001827       0.998173         0.998173\n"
     ]
    }
   ],
   "source": [
    "# convert outputs to pos/neg probabilities and apply neutral band rules\n",
    "pos_probs = []\n",
    "neg_probs = []\n",
    "labels = []\n",
    "confidences = []\n",
    "\n",
    "# thresholds you can tweak\n",
    "MAX_PROB_THRESHOLD = 0.60   # if the top probability < this -> NEUTRAL\n",
    "DIFF_THRESHOLD = 0.20       # if pos-neg diff < this -> NEUTRAL\n",
    "\n",
    "for row in raw_outputs:\n",
    "    # row example: [{'label': 'NEGATIVE','score':0.12}, {'label':'POSITIVE','score':0.88}]\n",
    "    probs = {d[\"label\"]: float(d[\"score\"]) for d in row}\n",
    "    pos = probs.get(\"POSITIVE\", 0.0)\n",
    "    neg = probs.get(\"NEGATIVE\", 0.0)\n",
    "    pos_probs.append(pos)\n",
    "    neg_probs.append(neg)\n",
    "\n",
    "    max_prob = max(pos, neg)\n",
    "    diff = abs(pos - neg)\n",
    "\n",
    "    if (max_prob < MAX_PROB_THRESHOLD) or (diff < DIFF_THRESHOLD):\n",
    "        label = \"NEUTRAL\"\n",
    "        conf = 1.0 - diff   # heuristic: small diff -> more neutral (0..1)\n",
    "    else:\n",
    "        label = \"POSITIVE\" if pos > neg else \"NEGATIVE\"\n",
    "        conf = max_prob\n",
    "\n",
    "    labels.append(label)\n",
    "    confidences.append(conf)\n",
    "\n",
    "# attach to df\n",
    "df[\"sent_pos_prob\"] = pos_probs\n",
    "df[\"sent_neg_prob\"] = neg_probs\n",
    "df[\"sent_confidence\"] = confidences\n",
    "df[\"Sentiment\"] = labels\n",
    "\n",
    "# Quick peek\n",
    "print(df[[text_col, \"Sentiment\", \"sent_pos_prob\", \"sent_neg_prob\", \"sent_confidence\"]].head(8).to_string(index=False))\n"
   ]
  },
  {
   "cell_type": "markdown",
   "id": "a36d3a13-f4b2-4070-866c-e0e489f5877a",
   "metadata": {},
   "source": [
    "* ## Save with sentiment column"
   ]
  },
  {
   "cell_type": "code",
   "execution_count": 19,
   "id": "91fecac2-a250-42e1-b86e-6678f55ed0e7",
   "metadata": {},
   "outputs": [
    {
     "name": "stdout",
     "output_type": "stream",
     "text": [
      "Saved: ../data/processed/spotify_reviews_with_sentiment.csv\n"
     ]
    }
   ],
   "source": [
    "\n",
    "# Step 6: Save with sentiment column\n",
    "out_path = \"../data/processed/spotify_reviews_with_sentiment.csv\"\n",
    "df.to_csv(out_path, index=False)\n",
    "print(\"Saved:\", out_path)\n"
   ]
  },
  {
   "cell_type": "markdown",
   "id": "d10e9027-9dec-4a4d-9195-2efc8bad6fbe",
   "metadata": {},
   "source": [
    "* ## Visualized Sentiment Analysis"
   ]
  },
  {
   "cell_type": "code",
   "execution_count": 20,
   "id": "2e50fd10-d0b5-45fc-bf7f-0fbe39fff1bc",
   "metadata": {},
   "outputs": [
    {
     "data": {
      "image/png": "[encoded data removed]",
      "text/plain": [
       "<Figure size 640x480 with 1 Axes>"
      ]
     },
     "metadata": {},
     "output_type": "display_data"
    }
   ],
   "source": [
    "# Step 7: visualize counts\n",
    "\n",
    "import matplotlib.pyplot as plt\n",
    "# Reorder counts\n",
    "counts = df[\"Sentiment\"].value_counts().reindex([\"POSITIVE\", \"NEUTRAL\", \"NEGATIVE\"]).fillna(0)\n",
    "\n",
    "# Custom colors for each sentiment\n",
    "colors = [\"#98df8a\", \"#ffee7a\", \"#ff9896\"]  # light green, light yellow, light red\n",
    "\n",
    "\n",
    "# Plot\n",
    "counts.plot(kind=\"bar\", color=colors, rot=0, edgecolor='black', linewidth=1.5)\n",
    "\n",
    "plt.title(\"Sentiment Distribution (DistilBERT + Neutral Band)\", fontsize=16, weight='bold')\n",
    "plt.xlabel(\"Sentiment\", fontsize=12)\n",
    "plt.ylabel(\"Count\", fontsize=12)\n",
    "plt.xticks(fontsize=12, weight='bold')\n",
    "plt.yticks(fontsize=12)\n",
    "\n",
    "plt.tight_layout()\n",
    "plt.show()\n"
   ]
  },
  {
   "cell_type": "code",
   "execution_count": 21,
   "id": "860cfb82-f5cb-474d-9fbc-4c38b785bbbc",
   "metadata": {},
   "outputs": [
    {
     "data": {
      "image/png": "[encoded data removed]",
      "text/plain": [
       "<Figure size 800x800 with 1 Axes>"
      ]
     },
     "metadata": {},
     "output_type": "display_data"
    }
   ],
   "source": [
    "import matplotlib.pyplot as plt\n",
    "\n",
    "# Reorder counts\n",
    "counts = df[\"Sentiment\"].value_counts().reindex([\"POSITIVE\", \"NEUTRAL\", \"NEGATIVE\"]).fillna(0)\n",
    "\n",
    "# Custom colors for each sentiment\n",
    "colors = [\"#98df8a\", \"#ffee7a\", \"#ff9896\"]  # light green, light yellow, light red\n",
    "\n",
    "\n",
    "# Plot pie chart\n",
    "plt.figure(figsize=(8, 8))\n",
    "plt.pie(\n",
    "    counts,\n",
    "    labels=counts.index,\n",
    "    colors=colors,\n",
    "    autopct=\"%1.1f%%\",\n",
    "    startangle=90,\n",
    "    wedgeprops={'edgecolor': 'black', 'linewidth': 1.5}\n",
    ")\n",
    "\n",
    "plt.title(\"Sentiment Distribution (DistilBERT + Neutral Band)\", fontsize=16, weight='bold')\n",
    "plt.tight_layout()\n",
    "plt.show()\n"
   ]
  },
  {
   "cell_type": "markdown",
   "id": "2c1f52a0-ca9c-4a3b-88fe-cbf422ee058e",
   "metadata": {},
   "source": [
    "* ## Compare Rating and Sentiment Column"
   ]
  },
  {
   "cell_type": "code",
   "execution_count": 23,
   "id": "6a3f9e57-5a4c-460c-a600-4af3ffb54807",
   "metadata": {
    "scrolled": true
   },
   "outputs": [
    {
     "name": "stdout",
     "output_type": "stream",
     "text": [
      "Agreement vs Rating (approx): 43.90%\n",
      " Rating Rating_Sentiment Sentiment\n",
      "      5         POSITIVE  POSITIVE\n",
      "      5         POSITIVE  NEGATIVE\n",
      "      4         POSITIVE  NEGATIVE\n",
      "      1         NEGATIVE  NEGATIVE\n",
      "      1         NEGATIVE  NEGATIVE\n",
      "      3          NEUTRAL  NEGATIVE\n"
     ]
    }
   ],
   "source": [
    "\n",
    "# Optional: compare to Rating column if present (1-5)\n",
    "def rating_to_sentiment(stars):\n",
    "    try:\n",
    "        stars = float(stars)\n",
    "    except:\n",
    "        return None\n",
    "    if stars >= 4: return \"POSITIVE\"\n",
    "    if stars <= 2: return \"NEGATIVE\"\n",
    "    return \"NEUTRAL\"\n",
    "\n",
    "if \"Rating\" in df.columns:\n",
    "    df[\"Rating_Sentiment\"] = df[\"Rating\"].apply(rating_to_sentiment)\n",
    "    # compute simple agreement (ignoring nulls)\n",
    "    valid = df.dropna(subset=[\"Rating_Sentiment\"])\n",
    "    agreement = (valid[\"Sentiment\"] == valid[\"Rating_Sentiment\"]).mean()\n",
    "    print(f\"Agreement vs Rating (approx): {agreement:.2%}\")\n",
    "    print(valid[[\"Rating\",\"Rating_Sentiment\",\"Sentiment\"]].head(6).to_string(index=False))"
   ]
  },
  {
   "cell_type": "markdown",
   "id": "cf273e98-6755-44dc-8e69-2f6eef2738de",
   "metadata": {},
   "source": [
    "# Step 3: Thematic analysis"
   ]
  },
  {
   "cell_type": "code",
   "execution_count": 2,
   "id": "9a5254ca-a676-45ef-99ff-a2108f70bc16",
   "metadata": {},
   "outputs": [
    {
     "name": "stdout",
     "output_type": "stream",
     "text": [
      "done\n"
     ]
    }
   ],
   "source": [
    "# --- Imports ---\n",
    "import pandas as pd\n",
    "import numpy as np\n",
    "from sklearn.feature_extraction.text import TfidfVectorizer\n",
    "import matplotlib.pyplot as plt\n",
    "print(\"done\")"
   ]
  },
  {
   "cell_type": "code",
   "execution_count": 3,
   "id": "fdb00950-1a47-4503-bbdd-c3cb764a1e7b",
   "metadata": {},
   "outputs": [
    {
     "name": "stdout",
     "output_type": "stream",
     "text": [
      "Total reviews: 61594\n"
     ]
    },
    {
     "data": {
      "text/plain": [
       "0    great music service audio high quality app eas...\n",
       "1    give five star popup get best spotify experien...\n",
       "2    buggy terrible use recently dear spotify get s...\n",
       "3    app restart forgets playing fix issue love sel...\n",
       "4    provided song youre listening still extremely ...\n",
       "Name: cleaned_review, dtype: object"
      ]
     },
     "execution_count": 3,
     "metadata": {},
     "output_type": "execute_result"
    }
   ],
   "source": [
    "# --- Load cleaned dataset ---\n",
    "df = pd.read_csv(\"../data/processed/cleaned_text_only.csv\")  # your cleaned reviews file\n",
    "reviews = df['cleaned_review'].fillna(\"\")\n",
    "print(f\"Total reviews: {len(reviews)}\")\n",
    "reviews[:5]  # check the first few reviews"
   ]
  },
  {
   "cell_type": "markdown",
   "id": "9d6e7734-bcf4-47e0-9203-533478e40b66",
   "metadata": {},
   "source": [
    "* ## TF-IDF Vectorization"
   ]
  },
  {
   "cell_type": "code",
   "execution_count": 4,
   "id": "35d646d7-49db-45a4-87db-89662ecd9a35",
   "metadata": {},
   "outputs": [
    {
     "name": "stdout",
     "output_type": "stream",
     "text": [
      "Total features created: 83854\n"
     ]
    }
   ],
   "source": [
    "# --- Create TF-IDF features ---\n",
    "vectorizer = TfidfVectorizer(\n",
    "    max_df=0.85,        # ignore words that appear in >85% of reviews\n",
    "    min_df=2,           # ignore words appearing in <2 reviews\n",
    "    ngram_range=(1,2),  # include unigrams (single words) and bigrams (2-word phrases)\n",
    "    stop_words='english'  # remove common stop words like 'the', 'and'\n",
    ")\n",
    "\n",
    "tfidf_matrix = vectorizer.fit_transform(reviews)\n",
    "feature_names = np.array(vectorizer.get_feature_names_out())\n",
    "print(f\"Total features created: {len(feature_names)}\")"
   ]
  },
  {
   "cell_type": "markdown",
   "id": "ef6e7e88-274c-46ee-87fe-ab5b5dbcbdbc",
   "metadata": {},
   "source": [
    "* ## Extract top keywords"
   ]
  },
  {
   "cell_type": "code",
   "execution_count": 5,
   "id": "fd63c7a7-8e0c-4082-859b-a64ca593b9a6",
   "metadata": {},
   "outputs": [
    {
     "name": "stdout",
     "output_type": "stream",
     "text": [
      "app: 1607.51\n",
      "song: 1576.40\n",
      "music: 1280.86\n",
      "spotify: 1000.47\n",
      "play: 826.73\n",
      "ad: 702.07\n",
      "playlist: 654.20\n",
      "like: 634.83\n",
      "listen: 617.24\n",
      "love: 604.38\n",
      "premium: 583.70\n",
      "good: 578.12\n",
      "great: 506.13\n",
      "dont: 494.47\n",
      "want: 470.04\n",
      "time: 467.16\n",
      "playing: 463.23\n",
      "im: 460.99\n",
      "update: 448.28\n",
      "use: 434.21\n"
     ]
    }
   ],
   "source": [
    "# --- Sum TF-IDF scores across all reviews to get most important words ---\n",
    "tfidf_sum = tfidf_matrix.sum(axis=0).A1  # sum scores for each word/phrase\n",
    "top_n = 20\n",
    "top_indices = tfidf_sum.argsort()[::-1][:top_n]\n",
    "top_keywords = feature_names[top_indices]\n",
    "top_scores = tfidf_sum[top_indices]\n",
    "\n",
    "# Display top keywords\n",
    "for word, score in zip(top_keywords, top_scores):\n",
    "    print(f\"{word}: {score:.2f}\")\n"
   ]
  },
  {
   "cell_type": "markdown",
   "id": "a464d592-5e3c-4be8-8618-2c1ed710a1df",
   "metadata": {},
   "source": [
    "* ## Visualize top keywords"
   ]
  },
  {
   "cell_type": "code",
   "execution_count": 6,
   "id": "61571c74-a69f-4221-9844-db372cca1080",
   "metadata": {},
   "outputs": [
    {
     "data": {
      "image/png": "[encoded data removed]",
      "text/plain": [
       "<Figure size 1000x600 with 1 Axes>"
      ]
     },
     "metadata": {},
     "output_type": "display_data"
    }
   ],
   "source": [
    "# --- Plot top keywords ---\n",
    "plt.figure(figsize=(10,6))\n",
    "plt.barh(top_keywords[::-1], top_scores[::-1], color='lightblue')  # reverse for top-down\n",
    "plt.xlabel(\"TF-IDF Score\")\n",
    "plt.title(\"Top Keywords in Spotify Reviews\")\n",
    "plt.tight_layout()\n",
    "plt.show()\n"
   ]
  },
  {
   "cell_type": "markdown",
   "id": "67eb05c5-3778-4a46-8943-c8e8e3f0e22a",
   "metadata": {},
   "source": [
    "* ## Grouping the top words"
   ]
  },
  {
   "cell_type": "code",
   "execution_count": 7,
   "id": "73796019-abe5-4f14-8107-b056e2bda37d",
   "metadata": {},
   "outputs": [
    {
     "data": {
      "text/plain": [
       "{'App & Usability': 27620,\n",
       " 'Music & Songs': 27938,\n",
       " 'User Satisfaction/Sentiment': 22037,\n",
       " 'Ads & Premium': 19543,\n",
       " 'Spotify Branding': 13163}"
      ]
     },
     "execution_count": 7,
     "metadata": {},
     "output_type": "execute_result"
    }
   ],
   "source": [
    "# Example theme groups\n",
    "themes = {\n",
    "    \"App & Usability\": [\"app\", \"use\", \"time\", \"im\", \"update\"],  \n",
    "    # app functionality, ease of use, general usage comments\n",
    "    \"Music & Songs\": [\"song\", \"music\", \"play\", \"listen\", \"playing\", \"playlist\"],  \n",
    "    # about songs, music, playback, playlist experience\n",
    "    \"User Satisfaction/Sentiment\": [\"love\", \"good\", \"great\", \"like\", \"want\", \"dont\"],  \n",
    "    # expressing positive feelings or preferences\n",
    "    \"Ads & Premium\": [\"ad\", \"premium\"],  \n",
    "    # about advertisements or subscription/premium features\n",
    "    \"Spotify Branding\": [\"spotify\"]  \n",
    "    # mentions the app name directly\n",
    "}\n",
    "\n",
    "# Count how many times theme keywords appear in all reviews\n",
    "theme_counts = {}\n",
    "for theme, keywords in themes.items():\n",
    "    count = sum(reviews.str.contains('|'.join(keywords), case=False))\n",
    "    theme_counts[theme] = count\n",
    "\n",
    "theme_counts"
   ]
  },
  {
   "cell_type": "markdown",
   "id": "6d713557-5928-413f-b721-9fcc6ac03f90",
   "metadata": {},
   "source": [
    "* ## Visualizing Theme analysis"
   ]
  },
  {
   "cell_type": "code",
   "execution_count": 8,
   "id": "4c770039-a4aa-4faf-a63b-d581f9ba468a",
   "metadata": {},
   "outputs": [
    {
     "data": {
      "image/png": "[encoded data removed]",
      "text/plain": [
       "<Figure size 800x500 with 1 Axes>"
      ]
     },
     "metadata": {},
     "output_type": "display_data"
    }
   ],
   "source": [
    "# --- Plot theme distribution ---\n",
    "plt.figure(figsize=(8,5))\n",
    "plt.bar(theme_counts.keys(), theme_counts.values(), color='lightgreen')\n",
    "plt.ylabel(\"Number of reviews mentioning theme\")\n",
    "plt.title(\"Spotify Review Themes\")\n",
    "plt.xticks(rotation=30)\n",
    "plt.tight_layout()\n",
    "plt.show()"
   ]
  },
  {
   "cell_type": "markdown",
   "id": "8d84ab8e-99be-414e-a182-0ff89237aff2",
   "metadata": {},
   "source": [
    "## Additional tool comparision"
   ]
  },
  {
   "cell_type": "code",
   "execution_count": 2,
   "id": "2f0a8a61-7340-46b2-b267-b9df8739f43f",
   "metadata": {},
   "outputs": [
    {
     "name": "stderr",
     "output_type": "stream",
     "text": [
      "[nltk_data] Downloading package vader_lexicon to\n",
      "[nltk_data]     /home/saron/nltk_data...\n",
      "[nltk_data]   Package vader_lexicon is already up-to-date!\n"
     ]
    }
   ],
   "source": [
    "# VADER\n",
    "import nltk\n",
    "import pandas as pd\n",
    "nltk.download('vader_lexicon')\n",
    "\n",
    "from nltk.sentiment import SentimentIntensityAnalyzer\n",
    "\n",
    "df = pd.read_csv(\"../data/processed/processed_reviews.csv\")   \n",
    "# Step 2: Initialize the analyzer\n",
    "sia = SentimentIntensityAnalyzer()\n",
    "\n",
    "# Step 3: Analyze sentiment for each cleaned review\n",
    "df['VADER_scores'] = df['cleaned_review'].apply(lambda x: sia.polarity_scores(str(x)))\n",
    "\n",
    "# Step 4: Extract compound score and assign label\n",
    "def vader_label(score):\n",
    "    compound = score['compound']\n",
    "    if compound >= 0.05:\n",
    "        return \"POSITIVE\"\n",
    "    elif compound <= -0.05:\n",
    "        return \"NEGATIVE\"\n",
    "    else:\n",
    "        return \"NEUTRAL\"\n",
    "\n",
    "df['VADER_sentiment'] = df['VADER_scores'].apply(vader_label)\n",
    "\n",
    "# Save the DataFrame with VADER sentiment\n",
    "df.to_csv(\"/home/saron/MySpace/iCog/Trainings/2nd_training_NLP/data/processed/spotify_reviews_with_vader_sentiment.csv\", index=False)"
   ]
  },
  {
   "cell_type": "code",
   "execution_count": 3,
   "id": "a17a2abf-bf10-4f49-9fa2-7d685d0aeabe",
   "metadata": {},
   "outputs": [
    {
     "name": "stdout",
     "output_type": "stream",
     "text": [
      "done\n"
     ]
    }
   ],
   "source": [
    "#TextBlob\n",
    "#Install and import\n",
    "from textblob import TextBlob\n",
    "\n",
    "# Step 2: Compute polarity for each cleaned review\n",
    "df['TextBlob_polarity'] = df['cleaned_review'].apply(lambda x: TextBlob(str(x)).sentiment.polarity)\n",
    "\n",
    "# Step 3: Assign sentiment based on polarity\n",
    "def textblob_label(polarity):\n",
    "    if polarity > 0.05:\n",
    "        return \"POSITIVE\"\n",
    "    elif polarity < -0.05:\n",
    "        return \"NEGATIVE\"\n",
    "    else:\n",
    "        return \"NEUTRAL\"\n",
    "\n",
    "df['TextBlob_sentiment'] = df['TextBlob_polarity'].apply(textblob_label)\n",
    "df.to_csv(\"../data/processed/spotify_reviews_with_textblob_sentiment.csv\", index=False)\n",
    "print(\"done\")"
   ]
  },
  {
   "cell_type": "code",
   "execution_count": 4,
   "id": "48414781-948b-4587-9bde-b5923eb99bad",
   "metadata": {},
   "outputs": [
    {
     "name": "stdout",
     "output_type": "stream",
     "text": [
      "VADER Sentiment Counts:\n",
      "VADER_sentiment\n",
      "NEUTRAL     29310\n",
      "POSITIVE    24635\n",
      "NEGATIVE     7649\n",
      "Name: count, dtype: int64\n",
      "\n",
      "TextBlob Sentiment Counts:\n",
      "TextBlob_sentiment\n",
      "NEUTRAL     33596\n",
      "POSITIVE    21989\n",
      "NEGATIVE     6009\n",
      "Name: count, dtype: int64\n",
      "\n",
      "DistilBERT Sentiment Counts:\n",
      "Sentiment\n",
      "POSITIVE    34883\n",
      "NEGATIVE    26110\n",
      "NEUTRAL       601\n",
      "Name: count, dtype: int64\n"
     ]
    }
   ],
   "source": [
    "# Compare sentiment counts\n",
    "import pandas as pd\n",
    "\n",
    "print(\"VADER Sentiment Counts:\")\n",
    "print(df['VADER_sentiment'].value_counts())\n",
    "\n",
    "print(\"\\nTextBlob Sentiment Counts:\")\n",
    "print(df['TextBlob_sentiment'].value_counts())\n",
    "\n",
    "df = pd.read_csv(\"../data/processed/spotify_reviews_with_sentiment.csv\")  # make sure this is the file with DistilBERT results\n",
    "print(\"\\nDistilBERT Sentiment Counts:\")\n",
    "print(df['Sentiment'].value_counts())\n"
   ]
  },
  {
   "cell_type": "markdown",
   "id": "69cf8718-77fa-4c33-aad5-912482691e9f",
   "metadata": {},
   "source": [
    "* ## Visualizing the three tools"
   ]
  },
  {
   "cell_type": "code",
   "execution_count": 1,
   "id": "24d5bdcd-ad52-42c5-ba23-4b68593af206",
   "metadata": {},
   "outputs": [
    {
     "data": {
      "image/png": "[encoded data removed]",
      "text/plain": [
       "<Figure size 1200x400 with 3 Axes>"
      ]
     },
     "metadata": {},
     "output_type": "display_data"
    }
   ],
   "source": [
    "import pandas as pd\n",
    "import matplotlib.pyplot as plt\n",
    "\n",
    "sentiments = ['POSITIVE','NEUTRAL','NEGATIVE']\n",
    "colors = [\"#98df8a\", \"#ffee7a\", \"#ff9896\"]\n",
    "\n",
    "# Load CSVs\n",
    "df_vader = pd.read_csv(\"../data/processed/spotify_reviews_with_vader_sentiment.csv\")\n",
    "df_textblob = pd.read_csv(\"../data/processed/spotify_reviews_with_textblob_sentiment.csv\")\n",
    "df_distil = pd.read_csv(\"../data/processed/spotify_reviews_with_sentiment.csv\")\n",
    "\n",
    "plt.figure(figsize=(12,4))\n",
    "\n",
    "# VADER\n",
    "plt.subplot(1,3,1)\n",
    "df_vader['VADER_sentiment'].value_counts().reindex(sentiments, fill_value=0).plot(\n",
    "    kind='bar', color=colors, edgecolor='black')\n",
    "plt.title(\"VADER Sentiment\")\n",
    "plt.ylabel(\"Count\")\n",
    "\n",
    "# TextBlob\n",
    "plt.subplot(1,3,2)\n",
    "df_textblob['TextBlob_sentiment'].value_counts().reindex(sentiments, fill_value=0).plot(\n",
    "    kind='bar', color=colors, edgecolor='black')\n",
    "plt.title(\"TextBlob Sentiment\")\n",
    "\n",
    "# DistilBERT\n",
    "plt.subplot(1,3,3)\n",
    "df_distil['Sentiment'].value_counts().reindex(sentiments, fill_value=0).plot(\n",
    "    kind='bar', color=colors, edgecolor='black')\n",
    "plt.title(\"DistilBERT Sentiment\")\n",
    "\n",
    "plt.tight_layout()\n",
    "plt.show()\n"
   ]
  },
  {
   "cell_type": "markdown",
   "id": "8ab6a818-f705-4ebf-a392-db382182ff06",
   "metadata": {},
   "source": [
    "* ## compare Rating and Sentiment Column in vader and textblob tool"
   ]
  },
  {
   "cell_type": "code",
   "execution_count": 2,
   "id": "cd1c5d0c-ea78-45cf-b88c-ab5d32422f4b",
   "metadata": {},
   "outputs": [
    {
     "name": "stdout",
     "output_type": "stream",
     "text": [
      "Agreement of VADER_sentiment vs Rating: 28.78%\n",
      " Rating Rating_Sentiment VADER_sentiment\n",
      "      5         POSITIVE        POSITIVE\n",
      "      5         POSITIVE        POSITIVE\n",
      "      4         POSITIVE         NEUTRAL\n",
      "      1         NEGATIVE        POSITIVE\n",
      "      1         NEGATIVE        POSITIVE\n",
      "      3          NEUTRAL        POSITIVE\n",
      "Agreement of TextBlob_sentiment vs Rating: 26.49%\n",
      " Rating Rating_Sentiment TextBlob_sentiment\n",
      "      5         POSITIVE           POSITIVE\n",
      "      5         POSITIVE           POSITIVE\n",
      "      4         POSITIVE           NEGATIVE\n",
      "      1         NEGATIVE           POSITIVE\n",
      "      1         NEGATIVE           NEGATIVE\n",
      "      3          NEUTRAL            NEUTRAL\n"
     ]
    }
   ],
   "source": [
    "import pandas as pd\n",
    "\n",
    "# Function to convert star rating to sentiment\n",
    "def rating_to_sentiment(stars):\n",
    "    try:\n",
    "        stars = float(stars)\n",
    "    except:\n",
    "        return None\n",
    "    if stars >= 4: \n",
    "        return \"POSITIVE\"\n",
    "    if stars <= 2: \n",
    "        return \"NEGATIVE\"\n",
    "    return \"NEUTRAL\"\n",
    "\n",
    "# Function to compute agreement with Rating\n",
    "def compute_agreement(df, sentiment_col):\n",
    "    if \"Rating\" not in df.columns:\n",
    "        print(\"No Rating column found!\")\n",
    "        return\n",
    "    valid = df.dropna(subset=[sentiment_col, \"Rating\"])\n",
    "    valid[\"Rating_Sentiment\"] = valid[\"Rating\"].apply(rating_to_sentiment)\n",
    "    agreement = (valid[sentiment_col] == valid[\"Rating_Sentiment\"]).mean()\n",
    "    print(f\"Agreement of {sentiment_col} vs Rating: {agreement:.2%}\")\n",
    "    print(valid[[\"Rating\", \"Rating_Sentiment\", sentiment_col]].head(6).to_string(index=False))\n",
    "\n",
    "# Load CSVs\n",
    "df_vader = pd.read_csv(\"../data/processed/spotify_reviews_with_vader_sentiment.csv\")\n",
    "df_textblob = pd.read_csv(\"../data/processed/spotify_reviews_with_textblob_sentiment.csv\")\n",
    "\n",
    "\n",
    "# Compute agreement\n",
    "compute_agreement(df_vader, \"VADER_sentiment\")\n",
    "compute_agreement(df_textblob, \"TextBlob_sentiment\")\n"
   ]
  },
  {
   "cell_type": "code",
   "execution_count": null,
   "id": "17d17d46-8ab2-491a-a8d0-76867528f070",
   "metadata": {},
   "outputs": [],
   "source": []
  }
 ],
 "metadata": {
  "kernelspec": {
   "display_name": "Python (.venv)",
   "language": "python",
   "name": "myenv"
  },
  "language_info": {
   "codemirror_mode": {
    "name": "ipython",
    "version": 3
   },
   "file_extension": ".py",
   "mimetype": "text/x-python",
   "name": "python",
   "nbconvert_exporter": "python",
   "pygments_lexer": "ipython3",
   "version": "3.12.3"
  }
 },
 "nbformat": 4,
 "nbformat_minor": 5
}
